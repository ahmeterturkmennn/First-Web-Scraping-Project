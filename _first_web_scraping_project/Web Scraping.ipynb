{
 "cells": [
  {
   "cell_type": "markdown",
   "id": "65edf195",
   "metadata": {},
   "source": [
    "### Local Data Scraping"
   ]
  },
  {
   "cell_type": "code",
   "execution_count": 1,
   "id": "5fd87bb3",
   "metadata": {},
   "outputs": [],
   "source": [
    "from bs4 import BeautifulSoup"
   ]
  },
  {
   "cell_type": "code",
   "execution_count": 2,
   "id": "a215e656",
   "metadata": {},
   "outputs": [
    {
     "name": "stdout",
     "output_type": "stream",
     "text": [
      "[<h5 class=\"card-title\">Python for beginners</h5>, <h5 class=\"card-title\">Python Web Development</h5>, <h5 class=\"card-title\">Python Machine Learning</h5>]\n"
     ]
    }
   ],
   "source": [
    "with open(\"home.html\",\"r\") as file:\n",
    "    content=file.read()\n",
    "    soup=BeautifulSoup(content,\"lxml\") #(content, parsermethod)\n",
    "    tags=soup.find_all(\"h5\") #If we want first one that appears, we use find()\n",
    "    print(tags)# type(tags)=list"
   ]
  },
  {
   "cell_type": "code",
   "execution_count": 3,
   "id": "6d5572c1",
   "metadata": {
    "scrolled": true
   },
   "outputs": [
    {
     "name": "stdout",
     "output_type": "stream",
     "text": [
      "<h5 class=\"card-title\">Python for beginners</h5>\n",
      "<h5 class=\"card-title\">Python Web Development</h5>\n",
      "<h5 class=\"card-title\">Python Machine Learning</h5>\n"
     ]
    }
   ],
   "source": [
    "with open(\"home.html\",\"r\") as file:\n",
    "    content=file.read()\n",
    "    soup=BeautifulSoup(content,\"lxml\") #(content, parsermethod)\n",
    "    courses_tags=soup.find_all(\"h5\") #If we want first one that appears, we use find()\n",
    "    for course in courses_tags:\n",
    "        print(course)"
   ]
  },
  {
   "cell_type": "code",
   "execution_count": 4,
   "id": "41a1dc8b",
   "metadata": {},
   "outputs": [
    {
     "name": "stdout",
     "output_type": "stream",
     "text": [
      "20$\n",
      "Python for beginners\n",
      "50$\n",
      "Python Web Development\n",
      "100$\n",
      "Python Machine Learning\n"
     ]
    }
   ],
   "source": [
    "with open(\"home.html\",\"r\") as file:\n",
    "    content=file.read()\n",
    "    soup=BeautifulSoup(content,\"lxml\")\n",
    "  \n",
    "    course_cards=soup.find_all(\"div\",class_=\"card\")\n",
    "      \n",
    "    for course in course_cards:\n",
    "        course_name=course.h5.text\n",
    "        course_price=course.a.text.split()[-1]\n",
    "        print(course_price)\n",
    "        print(course_name)"
   ]
  },
  {
   "cell_type": "markdown",
   "id": "d068150f",
   "metadata": {},
   "source": [
    "### Web Scraping"
   ]
  },
  {
   "cell_type": "code",
   "execution_count": 5,
   "id": "09d145b9",
   "metadata": {},
   "outputs": [
    {
     "data": {
      "text/plain": [
       "<Response [200]>"
      ]
     },
     "execution_count": 5,
     "metadata": {},
     "output_type": "execute_result"
    }
   ],
   "source": [
    "import requests\n",
    "url=\"https://www.kariyer.net/is-ilanlari/ankara\"\n",
    "html_text=requests.get(url)\n",
    "html_text"
   ]
  },
  {
   "cell_type": "code",
   "execution_count": 29,
   "id": "4615b6bf",
   "metadata": {},
   "outputs": [
    {
     "name": "stdout",
     "output_type": "stream",
     "text": [
      "Filtering \n",
      "/is-ilani/avel-avrupa-elektrik-enerjisi-toptan-satis-a-s-ticari-enerji-satis-uzmani-3185142\n",
      "/is-ilani/yon-iletisim-cagri-merkezi-musteri-temsilcisi-3187605\n",
      "/is-ilani/bildirici-gida-san-ve-tic-ltd-sti-sofor-surucu-3170893\n",
      "/is-ilani/argis-ilac-sanayi-ve-ticaret-a-s-arastirma-gelistirme-arge-yoneticisi-3168107\n",
      "/is-ilani/gizli-firma-hakedis-ve-kesin-hesap-muhendisi-3170092\n",
      "/is-ilani/farhym-oto-san-ve-tic-ltd-sti-boyahane-muhendisi-3169523\n",
      "/is-ilani/osmanli-yatirim-menkul-degerler-a-s-is-analisti-3168560\n",
      "/is-ilani/dogus-insaat-ve-ticaret-a-s-bilgi-teknolojileri-uzmani-ankara-3162688\n",
      "/is-ilani/sektorunde-oncu-firma-personel-sefi-3170482\n",
      "/is-ilani/turuncu-grup-egitim-hizmetleri-limited-sirketi-okul-oncesi-ogretmeni-3168625\n",
      "/is-ilani/re-carbon-gozetim-denetim-ve-belgelendirme-limited-denetim-uzmani-3169338\n",
      "/is-ilani/eryigit-tibbi-cihazlar-a-s-gazalti-ve-elektrot-kaynakcisi-3168363\n",
      "/is-ilani/dogus-insaat-ve-ticaret-a-s-proje-maliyet-kontrol-sefi-ankara-3162682\n",
      "/is-ilani/fleming-ilac-tibbi-satis-mumessili-3170988\n",
      "/is-ilani/melsa-tasarim-mobilya-dekorasyon-mimarlik-turizm-s-proje-sorumlusu-3171389\n",
      "/is-ilani/ebebek-bebekolog-part-satis-danismani-ankara-cukurambar-3128348\n",
      "/is-ilani/qnb-finansbank-bireysel-satis-temsilcisi-2630419\n",
      "/is-ilani/warpiris-bilisim-teknolojileri-anonim-sirketi-backend-developer-2980509\n",
      "/is-ilani/qnb-finansbank-tuzel-satis-temsilcisi-2692603\n",
      "/is-ilani/insa-insaat-taahhudu-san-tic-ltd-sti-restorasyon-santiye-sefi-3151164\n",
      "/is-ilani/siteplus-entegre-tesis-profesyonel-site-yon-egitim-uzmani-3133377\n",
      "/is-ilani/turkuaz-enerji-dogalgaz-ins-iml-tic-ve-san-ltd-elektrik-muhendisi-2672277\n",
      "/is-ilani/nurol-holding-a-s-sistem-destek-uzman-yardimcisi-3168983\n",
      "/is-ilani/nurol-teknoloji-sanayi-ve-madencilik-ticaret-a-s-depo-elemani-2926367\n",
      "/is-ilani/siemens-devops-engineer-partially-remote-3146734\n",
      "/is-ilani/gizli-firma-komur-alim-yoneticisi-3142639\n",
      "/is-ilani/kologlu-holding-a-s-yazilim-kalite-guvence-muhendisi-2947227\n"
     ]
    }
   ],
   "source": [
    "soup=BeautifulSoup(html_text.text,\"lxml\")\n",
    "jobs=soup.find_all(\"div\",class_=\"list-items\")\n",
    "\n",
    "\n",
    "print(\"Filtering \")\n",
    "for job in jobs:\n",
    "    \n",
    "    \n",
    "    employment_type=job.find(\"span\",class_=\"badge badge-primary\").text\n",
    "    \n",
    "    job_title=job.find(\"h3\",class_=\"kad-card-title\").span.span.text\n",
    "    more=job.a[\"href\"]\n",
    "    new_url = \"https://www.kariyer.net\"+more\n",
    "    newhtml=requests.get(url)\n",
    "    newsoup=BeautifulSoup(html_text.text,\"lxml\")\n",
    "    appli=soup.find(\"div\",class_=\"headline-top d-flex mb-3\")\n",
    "    print(more)"
   ]
  },
  {
   "cell_type": "code",
   "execution_count": null,
   "id": "c4711588",
   "metadata": {},
   "outputs": [],
   "source": []
  },
  {
   "cell_type": "code",
   "execution_count": null,
   "id": "37683ecd",
   "metadata": {},
   "outputs": [],
   "source": [
    " "
   ]
  }
 ],
 "metadata": {
  "kernelspec": {
   "display_name": "Python 3",
   "language": "python",
   "name": "python3"
  },
  "language_info": {
   "codemirror_mode": {
    "name": "ipython",
    "version": 3
   },
   "file_extension": ".py",
   "mimetype": "text/x-python",
   "name": "python",
   "nbconvert_exporter": "python",
   "pygments_lexer": "ipython3",
   "version": "3.8.11"
  }
 },
 "nbformat": 4,
 "nbformat_minor": 5
}
