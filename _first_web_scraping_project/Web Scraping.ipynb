[InternetShortcut]
URL=http://localhost:8888/notebooks/Web%20Scraping.ipynb
